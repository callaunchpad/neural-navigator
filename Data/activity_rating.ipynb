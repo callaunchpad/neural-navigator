{
 "cells": [
  {
   "cell_type": "code",
   "execution_count": 1,
   "id": "08acc0c3-2c47-4cd9-b0fe-7c509f0a516a",
   "metadata": {},
   "outputs": [],
   "source": [
    "import pandas as pd\n",
    "import numpy as np\n",
    "from IPython.display import display, clear_output\n",
    "import random"
   ]
  },
  {
   "cell_type": "code",
   "execution_count": 2,
   "id": "58bee466-d9c9-4775-abe8-8ffb4b1232bc",
   "metadata": {},
   "outputs": [],
   "source": [
    "data = pd.read_csv('bay_full.csv')\n",
    "f = open('rated_activities.csv', \"w+\")\n",
    "f.close()"
   ]
  },
  {
   "cell_type": "code",
   "execution_count": 3,
   "id": "2dda47d9-ab3a-47a7-bd2c-9063d3001e03",
   "metadata": {},
   "outputs": [],
   "source": [
    "df=pd.DataFrame(columns=['ID', 'title', 'features', 'quality', 'price', 'popularity', 'category', 'latitude', 'longitude', 'address', 'link', 'rating']).to_csv('rated_activities.csv',index=False)"
   ]
  },
  {
   "cell_type": "code",
   "execution_count": 4,
   "id": "fbc89864-d117-4519-af2e-58066a6e8bfb",
   "metadata": {},
   "outputs": [],
   "source": [
    "def display_random_item():\n",
    "    global current_item\n",
    "    current_item = data.sample().iloc[0]\n",
    "    print(\"Please rate the following activity:\")\n",
    "    display(current_item)"
   ]
  },
  {
   "cell_type": "code",
   "execution_count": 5,
   "id": "94465405-e0d4-435a-8a97-d8dde97315c1",
   "metadata": {},
   "outputs": [],
   "source": [
    "def save_rating(rating):\n",
    "    global current_item\n",
    "    rated_item = pd.DataFrame([{\n",
    "        'ID': current_item[0],\n",
    "        'title': current_item['title'],\n",
    "        'features': current_item['features'],\n",
    "        'quality': current_item['quality'],\n",
    "        'price': current_item['price'],\n",
    "        'popularity': current_item['popularity'],\n",
    "        'category': current_item['category'],\n",
    "        'latitude': current_item['latitude'],\n",
    "        'longitude': current_item['longitude'],\n",
    "        'address': current_item['address'],\n",
    "        'link': current_item['link'],\n",
    "        'rating': rating\n",
    "    }])\n",
    "    rated_item.to_csv('rated_activities.csv', mode='a', header=False, index=False)\n",
    "    print(f\"Saved your rating: {rating}\")"
   ]
  },
  {
   "cell_type": "code",
   "execution_count": 6,
   "id": "350fc9c2-0573-4ad1-98ee-075b46eff1a1",
   "metadata": {},
   "outputs": [],
   "source": [
    "def rate_activity():\n",
    "    display_random_item()\n",
    "    try:\n",
    "        rating = int(input(\"Enter your rating (1-10): \"))\n",
    "        while rating < 1 or rating > 10:\n",
    "            print(\"Rating must be between 1 and 10.\")\n",
    "            rating = int(input(\"Enter your rating (1-10): \"))\n",
    "        save_rating(rating)\n",
    "        clear_output()\n",
    "        rate_activity()\n",
    "    except ValueError:\n",
    "        print(\"Please enter a valid integer.\")\n",
    "        rate_activity()"
   ]
  },
  {
   "cell_type": "code",
   "execution_count": 7,
   "id": "8b371d12-c5da-480c-82a2-65f73b312024",
   "metadata": {},
   "outputs": [
    {
     "name": "stdout",
     "output_type": "stream",
     "text": [
      "Please rate the following activity:\n"
     ]
    },
    {
     "data": {
      "text/plain": [
       "Unnamed: 0                                                  622\n",
       "title                                         Cornelis Bol Park\n",
       "features      {'donkeys': 44, 'creek': 13, 'bike path': 10, ...\n",
       "quality                                                     4.7\n",
       "price                                                         0\n",
       "popularity                                                  341\n",
       "category                                                   Park\n",
       "latitude                                              37.410038\n",
       "longitude                                           -122.138797\n",
       "address                    3590 Laguna Ave, Palo Alto, CA 94306\n",
       "link          https://www.google.com/maps/place/Cornelis+Bol...\n",
       "Name: 559, dtype: object"
      ]
     },
     "metadata": {},
     "output_type": "display_data"
    },
    {
     "ename": "KeyboardInterrupt",
     "evalue": "Interrupted by user",
     "output_type": "error",
     "traceback": [
      "\u001b[0;31m---------------------------------------------------------------------------\u001b[0m",
      "\u001b[0;31mKeyboardInterrupt\u001b[0m                         Traceback (most recent call last)",
      "Cell \u001b[0;32mIn[7], line 1\u001b[0m\n\u001b[0;32m----> 1\u001b[0m \u001b[43mrate_activity\u001b[49m\u001b[43m(\u001b[49m\u001b[43m)\u001b[49m\n",
      "Cell \u001b[0;32mIn[6], line 10\u001b[0m, in \u001b[0;36mrate_activity\u001b[0;34m()\u001b[0m\n\u001b[1;32m      8\u001b[0m     save_rating(rating)\n\u001b[1;32m      9\u001b[0m     clear_output()\n\u001b[0;32m---> 10\u001b[0m     \u001b[43mrate_activity\u001b[49m\u001b[43m(\u001b[49m\u001b[43m)\u001b[49m\n\u001b[1;32m     11\u001b[0m \u001b[38;5;28;01mexcept\u001b[39;00m \u001b[38;5;167;01mValueError\u001b[39;00m:\n\u001b[1;32m     12\u001b[0m     \u001b[38;5;28mprint\u001b[39m(\u001b[38;5;124m\"\u001b[39m\u001b[38;5;124mPlease enter a valid integer.\u001b[39m\u001b[38;5;124m\"\u001b[39m)\n",
      "Cell \u001b[0;32mIn[6], line 10\u001b[0m, in \u001b[0;36mrate_activity\u001b[0;34m()\u001b[0m\n\u001b[1;32m      8\u001b[0m     save_rating(rating)\n\u001b[1;32m      9\u001b[0m     clear_output()\n\u001b[0;32m---> 10\u001b[0m     \u001b[43mrate_activity\u001b[49m\u001b[43m(\u001b[49m\u001b[43m)\u001b[49m\n\u001b[1;32m     11\u001b[0m \u001b[38;5;28;01mexcept\u001b[39;00m \u001b[38;5;167;01mValueError\u001b[39;00m:\n\u001b[1;32m     12\u001b[0m     \u001b[38;5;28mprint\u001b[39m(\u001b[38;5;124m\"\u001b[39m\u001b[38;5;124mPlease enter a valid integer.\u001b[39m\u001b[38;5;124m\"\u001b[39m)\n",
      "    \u001b[0;31m[... skipping similar frames: rate_activity at line 10 (7 times)]\u001b[0m\n",
      "Cell \u001b[0;32mIn[6], line 10\u001b[0m, in \u001b[0;36mrate_activity\u001b[0;34m()\u001b[0m\n\u001b[1;32m      8\u001b[0m     save_rating(rating)\n\u001b[1;32m      9\u001b[0m     clear_output()\n\u001b[0;32m---> 10\u001b[0m     \u001b[43mrate_activity\u001b[49m\u001b[43m(\u001b[49m\u001b[43m)\u001b[49m\n\u001b[1;32m     11\u001b[0m \u001b[38;5;28;01mexcept\u001b[39;00m \u001b[38;5;167;01mValueError\u001b[39;00m:\n\u001b[1;32m     12\u001b[0m     \u001b[38;5;28mprint\u001b[39m(\u001b[38;5;124m\"\u001b[39m\u001b[38;5;124mPlease enter a valid integer.\u001b[39m\u001b[38;5;124m\"\u001b[39m)\n",
      "Cell \u001b[0;32mIn[6], line 4\u001b[0m, in \u001b[0;36mrate_activity\u001b[0;34m()\u001b[0m\n\u001b[1;32m      2\u001b[0m display_random_item()\n\u001b[1;32m      3\u001b[0m \u001b[38;5;28;01mtry\u001b[39;00m:\n\u001b[0;32m----> 4\u001b[0m     rating \u001b[38;5;241m=\u001b[39m \u001b[38;5;28mint\u001b[39m(\u001b[38;5;28;43minput\u001b[39;49m\u001b[43m(\u001b[49m\u001b[38;5;124;43m\"\u001b[39;49m\u001b[38;5;124;43mEnter your rating (1-10): \u001b[39;49m\u001b[38;5;124;43m\"\u001b[39;49m\u001b[43m)\u001b[49m)\n\u001b[1;32m      5\u001b[0m     \u001b[38;5;28;01mwhile\u001b[39;00m rating \u001b[38;5;241m<\u001b[39m \u001b[38;5;241m1\u001b[39m \u001b[38;5;129;01mor\u001b[39;00m rating \u001b[38;5;241m>\u001b[39m \u001b[38;5;241m10\u001b[39m:\n\u001b[1;32m      6\u001b[0m         \u001b[38;5;28mprint\u001b[39m(\u001b[38;5;124m\"\u001b[39m\u001b[38;5;124mRating must be between 1 and 10.\u001b[39m\u001b[38;5;124m\"\u001b[39m)\n",
      "File \u001b[0;32m~/Launchpad/NeuralNavigator/neuralnav/lib/python3.9/site-packages/ipykernel/kernelbase.py:1270\u001b[0m, in \u001b[0;36mKernel.raw_input\u001b[0;34m(self, prompt)\u001b[0m\n\u001b[1;32m   1268\u001b[0m     msg \u001b[38;5;241m=\u001b[39m \u001b[38;5;124m\"\u001b[39m\u001b[38;5;124mraw_input was called, but this frontend does not support input requests.\u001b[39m\u001b[38;5;124m\"\u001b[39m\n\u001b[1;32m   1269\u001b[0m     \u001b[38;5;28;01mraise\u001b[39;00m StdinNotImplementedError(msg)\n\u001b[0;32m-> 1270\u001b[0m \u001b[38;5;28;01mreturn\u001b[39;00m \u001b[38;5;28;43mself\u001b[39;49m\u001b[38;5;241;43m.\u001b[39;49m\u001b[43m_input_request\u001b[49m\u001b[43m(\u001b[49m\n\u001b[1;32m   1271\u001b[0m \u001b[43m    \u001b[49m\u001b[38;5;28;43mstr\u001b[39;49m\u001b[43m(\u001b[49m\u001b[43mprompt\u001b[49m\u001b[43m)\u001b[49m\u001b[43m,\u001b[49m\n\u001b[1;32m   1272\u001b[0m \u001b[43m    \u001b[49m\u001b[38;5;28;43mself\u001b[39;49m\u001b[38;5;241;43m.\u001b[39;49m\u001b[43m_parent_ident\u001b[49m\u001b[43m[\u001b[49m\u001b[38;5;124;43m\"\u001b[39;49m\u001b[38;5;124;43mshell\u001b[39;49m\u001b[38;5;124;43m\"\u001b[39;49m\u001b[43m]\u001b[49m\u001b[43m,\u001b[49m\n\u001b[1;32m   1273\u001b[0m \u001b[43m    \u001b[49m\u001b[38;5;28;43mself\u001b[39;49m\u001b[38;5;241;43m.\u001b[39;49m\u001b[43mget_parent\u001b[49m\u001b[43m(\u001b[49m\u001b[38;5;124;43m\"\u001b[39;49m\u001b[38;5;124;43mshell\u001b[39;49m\u001b[38;5;124;43m\"\u001b[39;49m\u001b[43m)\u001b[49m\u001b[43m,\u001b[49m\n\u001b[1;32m   1274\u001b[0m \u001b[43m    \u001b[49m\u001b[43mpassword\u001b[49m\u001b[38;5;241;43m=\u001b[39;49m\u001b[38;5;28;43;01mFalse\u001b[39;49;00m\u001b[43m,\u001b[49m\n\u001b[1;32m   1275\u001b[0m \u001b[43m\u001b[49m\u001b[43m)\u001b[49m\n",
      "File \u001b[0;32m~/Launchpad/NeuralNavigator/neuralnav/lib/python3.9/site-packages/ipykernel/kernelbase.py:1313\u001b[0m, in \u001b[0;36mKernel._input_request\u001b[0;34m(self, prompt, ident, parent, password)\u001b[0m\n\u001b[1;32m   1310\u001b[0m \u001b[38;5;28;01mexcept\u001b[39;00m \u001b[38;5;167;01mKeyboardInterrupt\u001b[39;00m:\n\u001b[1;32m   1311\u001b[0m     \u001b[38;5;66;03m# re-raise KeyboardInterrupt, to truncate traceback\u001b[39;00m\n\u001b[1;32m   1312\u001b[0m     msg \u001b[38;5;241m=\u001b[39m \u001b[38;5;124m\"\u001b[39m\u001b[38;5;124mInterrupted by user\u001b[39m\u001b[38;5;124m\"\u001b[39m\n\u001b[0;32m-> 1313\u001b[0m     \u001b[38;5;28;01mraise\u001b[39;00m \u001b[38;5;167;01mKeyboardInterrupt\u001b[39;00m(msg) \u001b[38;5;28;01mfrom\u001b[39;00m \u001b[38;5;28;01mNone\u001b[39;00m\n\u001b[1;32m   1314\u001b[0m \u001b[38;5;28;01mexcept\u001b[39;00m \u001b[38;5;167;01mException\u001b[39;00m:\n\u001b[1;32m   1315\u001b[0m     \u001b[38;5;28mself\u001b[39m\u001b[38;5;241m.\u001b[39mlog\u001b[38;5;241m.\u001b[39mwarning(\u001b[38;5;124m\"\u001b[39m\u001b[38;5;124mInvalid Message:\u001b[39m\u001b[38;5;124m\"\u001b[39m, exc_info\u001b[38;5;241m=\u001b[39m\u001b[38;5;28;01mTrue\u001b[39;00m)\n",
      "\u001b[0;31mKeyboardInterrupt\u001b[0m: Interrupted by user"
     ]
    }
   ],
   "source": [
    "rate_activity()"
   ]
  },
  {
   "cell_type": "code",
   "execution_count": null,
   "id": "efd74132-1e9d-497e-b37a-62882ba25245",
   "metadata": {},
   "outputs": [],
   "source": []
  }
 ],
 "metadata": {
  "kernelspec": {
   "display_name": "neuralnav",
   "language": "python",
   "name": "neuralnav"
  },
  "language_info": {
   "codemirror_mode": {
    "name": "ipython",
    "version": 3
   },
   "file_extension": ".py",
   "mimetype": "text/x-python",
   "name": "python",
   "nbconvert_exporter": "python",
   "pygments_lexer": "ipython3",
   "version": "3.9.7"
  }
 },
 "nbformat": 4,
 "nbformat_minor": 5
}
