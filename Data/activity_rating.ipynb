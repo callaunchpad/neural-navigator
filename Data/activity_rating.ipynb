{
 "cells": [
  {
   "cell_type": "code",
   "execution_count": 10,
   "id": "08acc0c3-2c47-4cd9-b0fe-7c509f0a516a",
   "metadata": {},
   "outputs": [],
   "source": [
    "import pandas as pd\n",
    "import numpy as np\n",
    "from IPython.display import display, clear_output\n",
    "import random"
   ]
  },
  {
   "cell_type": "code",
   "execution_count": 11,
   "id": "58bee466-d9c9-4775-abe8-8ffb4b1232bc",
   "metadata": {},
   "outputs": [],
   "source": [
    "data = pd.read_csv('bay_full.csv')"
   ]
  },
  {
   "cell_type": "code",
   "execution_count": 18,
   "id": "2dda47d9-ab3a-47a7-bd2c-9063d3001e03",
   "metadata": {},
   "outputs": [],
   "source": [
    "df=pd.DataFrame(columns=['item_id','user_id', 'rating_id']).to_csv('rated_activities.csv',index=False)"
   ]
  },
  {
   "cell_type": "code",
   "execution_count": 13,
   "id": "fbc89864-d117-4519-af2e-58066a6e8bfb",
   "metadata": {},
   "outputs": [],
   "source": [
    "def display_random_item():\n",
    "    global current_item\n",
    "    current_element = data.sample().iloc[0]\n",
    "    current_title = current_element[\"title\"]\n",
    "    current_item = current_element[0]\n",
    "    current_link = current_element[\"link\"]\n",
    "    display(current_title)\n",
    "    display(current_link)"
   ]
  },
  {
   "cell_type": "code",
   "execution_count": 17,
   "id": "94465405-e0d4-435a-8a97-d8dde97315c1",
   "metadata": {},
   "outputs": [],
   "source": [
    "def save_rating(rating, user_id):\n",
    "    global current_item\n",
    "    rated_item = pd.DataFrame([{\n",
    "        'item_id': current_item,\n",
    "        'user_id': user_id,\n",
    "        'rating_id': rating\n",
    "    }])\n",
    "    \n",
    "    rated_item.to_csv('rated_activities.csv', mode='a', header=False, index=False)"
   ]
  },
  {
   "cell_type": "code",
   "execution_count": 19,
   "id": "350fc9c2-0573-4ad1-98ee-075b46eff1a1",
   "metadata": {},
   "outputs": [],
   "source": [
    "def rate_activity(user_id):\n",
    "    display_random_item()\n",
    "    try:\n",
    "        rating = input(\"Enter your rating (1-10), q to quit, s to skip: \")\n",
    "        if rating == \"q\":\n",
    "            return\n",
    "        elif rating != \"s\":\n",
    "            rating_int = int(rating)\n",
    "            while rating_int < 1 or rating_int > 10:\n",
    "                print(\"Rating must be between 1 and 10.\")\n",
    "                rating_int = int(input(\"Enter your rating (1-10): \"))\n",
    "            save_rating(rating_int, user_id)\n",
    "        clear_output()\n",
    "        rate_activity(user_id)\n",
    "    except ValueError:\n",
    "        print(\"Please enter a valid integer.\")\n",
    "        rate_activity(user_id)"
   ]
  },
  {
   "cell_type": "code",
   "execution_count": null,
   "id": "01e564f6-5395-45bc-baef-3d52b5823bb8",
   "metadata": {},
   "outputs": [
    {
     "data": {
      "text/plain": [
       "'Marin Headlands'"
      ]
     },
     "metadata": {},
     "output_type": "display_data"
    },
    {
     "data": {
      "text/plain": [
       "'https://www.google.com/maps/place/Marin+Headlands/data=!4m2!3m1!1s0x80858584d2ebcbdb:0xade4ca2ec239d476!10m1!1e1'"
      ]
     },
     "metadata": {},
     "output_type": "display_data"
    }
   ],
   "source": [
    "user_id = 3\n",
    "rate_activity(user_id)"
   ]
  },
  {
   "cell_type": "code",
   "execution_count": null,
   "id": "efd74132-1e9d-497e-b37a-62882ba25245",
   "metadata": {},
   "outputs": [],
   "source": []
  }
 ],
 "metadata": {
  "kernelspec": {
   "display_name": "neuralnav",
   "language": "python",
   "name": "neuralnav"
  },
  "language_info": {
   "codemirror_mode": {
    "name": "ipython",
    "version": 3
   },
   "file_extension": ".py",
   "mimetype": "text/x-python",
   "name": "python",
   "nbconvert_exporter": "python",
   "pygments_lexer": "ipython3",
   "version": "3.9.6"
  }
 },
 "nbformat": 4,
 "nbformat_minor": 5
}
