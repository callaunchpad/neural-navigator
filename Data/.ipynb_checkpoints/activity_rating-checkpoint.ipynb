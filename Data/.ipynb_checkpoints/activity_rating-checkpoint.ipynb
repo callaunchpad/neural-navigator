{
 "cells": [
  {
   "cell_type": "code",
   "execution_count": 96,
   "id": "08acc0c3-2c47-4cd9-b0fe-7c509f0a516a",
   "metadata": {},
   "outputs": [],
   "source": [
    "import pandas as pd\n",
    "import numpy as np\n",
    "from IPython.display import display, clear_output\n",
    "import random"
   ]
  },
  {
   "cell_type": "code",
   "execution_count": 97,
   "id": "58bee466-d9c9-4775-abe8-8ffb4b1232bc",
   "metadata": {},
   "outputs": [],
   "source": [
    "data = pd.read_csv('bay_full.csv')\n",
    "f = open('rated_activities.csv', \"w+\")\n",
    "f.close()"
   ]
  },
  {
   "cell_type": "code",
   "execution_count": 98,
   "id": "2dda47d9-ab3a-47a7-bd2c-9063d3001e03",
   "metadata": {},
   "outputs": [],
   "source": [
    "df=pd.DataFrame(columns=['ID', 'title', 'features', 'quality', 'price', 'popularity', 'category', 'latitude', 'longitude', 'address', 'link', 'rating']).to_csv('rated_activities.csv',index=False)"
   ]
  },
  {
   "cell_type": "code",
   "execution_count": 99,
   "id": "fbc89864-d117-4519-af2e-58066a6e8bfb",
   "metadata": {},
   "outputs": [],
   "source": [
    "def display_random_item():\n",
    "    global current_item\n",
    "    current_item = data.sample().iloc[0]\n",
    "    print(\"Please rate the following activity:\")\n",
    "    display(current_item)"
   ]
  },
  {
   "cell_type": "code",
   "execution_count": 100,
   "id": "94465405-e0d4-435a-8a97-d8dde97315c1",
   "metadata": {},
   "outputs": [],
   "source": [
    "def save_rating(rating):\n",
    "    global current_item\n",
    "    rated_item = pd.DataFrame([{\n",
    "        'ID': current_item[0],\n",
    "        'title': current_item['title'],\n",
    "        'features': current_item['features'],\n",
    "        'quality': current_item['quality'],\n",
    "        'price': current_item['price'],\n",
    "        'popularity': current_item['popularity'],\n",
    "        'category': current_item['category'],\n",
    "        'latitude': current_item['latitude'],\n",
    "        'longitude': current_item['longitude'],\n",
    "        'address': current_item['address'],\n",
    "        'link': current_item['link'],\n",
    "        'rating': rating\n",
    "    }])\n",
    "    rated_item.to_csv('rated_activities.csv', mode='a', header=False, index=False)\n",
    "    print(f\"Saved your rating: {rating}\")"
   ]
  },
  {
   "cell_type": "code",
   "execution_count": 101,
   "id": "350fc9c2-0573-4ad1-98ee-075b46eff1a1",
   "metadata": {},
   "outputs": [],
   "source": [
    "def rate_activity():\n",
    "    display_random_item()\n",
    "    try:\n",
    "        rating = int(input(\"Enter your rating (1-10): \"))\n",
    "        while rating < 1 or rating > 10:\n",
    "            print(\"Rating must be between 1 and 10.\")\n",
    "            rating = int(input(\"Enter your rating (1-10): \"))\n",
    "        save_rating(rating)\n",
    "        clear_output()\n",
    "        rate_activity()\n",
    "    except ValueError:\n",
    "        print(\"Please enter a valid integer.\")\n",
    "        rate_activity()"
   ]
  },
  {
   "cell_type": "code",
   "execution_count": null,
   "id": "8b371d12-c5da-480c-82a2-65f73b312024",
   "metadata": {},
   "outputs": [
    {
     "name": "stdout",
     "output_type": "stream",
     "text": [
      "Please rate the following activity:\n"
     ]
    },
    {
     "data": {
      "text/plain": [
       "Unnamed: 0                                                  592\n",
       "title                           The San Francisco Athletic Club\n",
       "features      {'game': 49, 'watch': 31, 'tvs': 18, 'burger':...\n",
       "quality                                                     4.5\n",
       "price                                                         2\n",
       "popularity                                                  429\n",
       "category                                             Sports bar\n",
       "latitude                                              37.786108\n",
       "longitude                                           -122.439874\n",
       "address             1750 Divisadero St, San Francisco, CA 94115\n",
       "link          https://www.google.com/maps/place/The+San+Fran...\n",
       "Name: 538, dtype: object"
      ]
     },
     "metadata": {},
     "output_type": "display_data"
    }
   ],
   "source": [
    "rate_activity()"
   ]
  },
  {
   "cell_type": "code",
   "execution_count": null,
   "id": "efd74132-1e9d-497e-b37a-62882ba25245",
   "metadata": {},
   "outputs": [],
   "source": []
  }
 ],
 "metadata": {
  "kernelspec": {
   "display_name": "neuralnav",
   "language": "python",
   "name": "neuralnav"
  },
  "language_info": {
   "codemirror_mode": {
    "name": "ipython",
    "version": 3
   },
   "file_extension": ".py",
   "mimetype": "text/x-python",
   "name": "python",
   "nbconvert_exporter": "python",
   "pygments_lexer": "ipython3",
   "version": "3.9.7"
  }
 },
 "nbformat": 4,
 "nbformat_minor": 5
}
