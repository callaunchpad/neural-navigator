{
 "cells": [
  {
   "cell_type": "markdown",
   "id": "43446007-3339-4317-ac6b-2fd17ba502c5",
   "metadata": {},
   "source": [
    "### sjfd\n",
    "\n",
    "Eventbrite has personalized recommendations --> not creating groups for recommendations / itineraries though\n",
    "\n",
    "http://sf-events.brokeassstuart.com/?_gl=1*kvaws8*_ga*MTY4ODczOTg1MC4xNzEyODc3NDAw*_ga_E5CPL85D02*MTcxMjg3NzQwMC4xLjEuMTcxMjg3Nzc1Ny4zMy4wLjA.\n",
    "\n",
    "Pretty straightforward to parse: - day events (general)\n",
    "http://sf-events.brokeassstuart.com/\n",
    "https://sf.funcheap.com/2024/04/11/\n",
    "\n"
   ]
  },
  {
   "cell_type": "code",
   "execution_count": 1,
   "id": "545a7321-910c-4d26-9516-077fff87718b",
   "metadata": {},
   "outputs": [],
   "source": []
  },
  {
   "cell_type": "code",
   "execution_count": 13,
   "id": "495f79c7-ee87-4cb0-b0a7-dd8d3600ff97",
   "metadata": {},
   "outputs": [
    {
     "data": {
      "text/plain": [
       "\"<div class='shrink'>2024/04/11</div></td></tr><tr>\""
      ]
     },
     "execution_count": 13,
     "metadata": {},
     "output_type": "execute_result"
    }
   ],
   "source": [
    "import urllib.request\n",
    "\n",
    "fp = urllib.request.urlopen(\"https://19hz.info/eventlisting_BayArea.php\")\n",
    "mybytes = fp.read()\n",
    "\n",
    "mystr = mybytes.decode('ISO-8859–1')\n",
    "fp.close()\n",
    "\n",
    "mystr = mystr.split(\"<td>\")\n",
    "mystr[7]"
   ]
  },
  {
   "cell_type": "code",
   "execution_count": 24,
   "id": "4fc518d5-283c-425e-91da-8d87656e6d75",
   "metadata": {},
   "outputs": [],
   "source": [
    "# Idea 2: get review descriptor aggregations\n",
    "from selenium import webdriver\n",
    "from selenium.webdriver.common.by import By\n",
    "import time\n",
    "\n",
    "driver = webdriver.Chrome()\n",
    "\n",
    "def get_keywords(url, attempts):\n",
    "    driver.get(url)\n",
    "\n",
    "    kw = []\n",
    "    table_rows = driver.find_elements(By.CSS_SELECTOR, \"tr\")\n",
    "\n",
    "    for tr in table_rows:\n",
    "        table_elems = tr.find_elements(By.CSS_SELECTOR, \"td\")\n",
    "        kw.append(table_elems)\n",
    "    \n",
    "    return kw"
   ]
  },
  {
   "cell_type": "code",
   "execution_count": 25,
   "id": "f055dee6-2e1c-4b8d-8fc2-f8995f53e6a2",
   "metadata": {},
   "outputs": [
    {
     "data": {
      "text/plain": [
       "[]"
      ]
     },
     "execution_count": 25,
     "metadata": {},
     "output_type": "execute_result"
    }
   ],
   "source": [
    "items = get_keywords(\"https://19hz.info/eventlisting_BayArea.php\", 0)\n",
    "items"
   ]
  },
  {
   "cell_type": "code",
   "execution_count": null,
   "id": "a9b52294-a213-41bf-ba6d-a978670c233f",
   "metadata": {},
   "outputs": [],
   "source": []
  }
 ],
 "metadata": {
  "kernelspec": {
   "display_name": "Python 3 (ipykernel)",
   "language": "python",
   "name": "python3"
  },
  "language_info": {
   "codemirror_mode": {
    "name": "ipython",
    "version": 3
   },
   "file_extension": ".py",
   "mimetype": "text/x-python",
   "name": "python",
   "nbconvert_exporter": "python",
   "pygments_lexer": "ipython3",
   "version": "3.9.6"
  }
 },
 "nbformat": 4,
 "nbformat_minor": 5
}
