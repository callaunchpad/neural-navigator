{
 "cells": [
  {
   "cell_type": "markdown",
   "id": "da7ada56-1c12-47d1-9ce1-4ed2d2dce41b",
   "metadata": {},
   "source": [
    "# Working with Google Maps API\n",
    "\n",
    "Basic code for gathering all activities with OpenAI API"
   ]
  },
  {
   "cell_type": "code",
   "execution_count": null,
   "id": "bc61587b-dab2-4580-850c-3f835ad6d724",
   "metadata": {},
   "outputs": [],
   "source": []
  }
 ],
 "metadata": {
  "kernelspec": {
   "display_name": "Python 3 (ipykernel)",
   "language": "python",
   "name": "python3"
  },
  "language_info": {
   "codemirror_mode": {
    "name": "ipython",
    "version": 3
   },
   "file_extension": ".py",
   "mimetype": "text/x-python",
   "name": "python",
   "nbconvert_exporter": "python",
   "pygments_lexer": "ipython3",
   "version": "3.12.2"
  }
 },
 "nbformat": 4,
 "nbformat_minor": 5
}
